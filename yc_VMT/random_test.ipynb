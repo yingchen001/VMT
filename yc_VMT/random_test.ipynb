{
 "nbformat": 4,
 "nbformat_minor": 2,
 "metadata": {
  "language_info": {
   "name": "python",
   "codemirror_mode": {
    "name": "ipython",
    "version": 3
   },
   "version": "3.7.4-final"
  },
  "orig_nbformat": 2,
  "file_extension": ".py",
  "mimetype": "text/x-python",
  "name": "python",
  "npconvert_exporter": "python",
  "pygments_lexer": "ipython3",
  "version": 3,
  "kernelspec": {
   "name": "python37464bitanaconda3virtualenv71155691bb514feaae486d25409faffe",
   "display_name": "Python 3.7.4 64-bit ('anaconda3': virtualenv)"
  }
 },
 "cells": [
  {
   "cell_type": "code",
   "execution_count": 41,
   "metadata": {},
   "outputs": [],
   "source": [
    "import math\n",
    "import random\n",
    "import torch\n",
    "import numpy as np\n",
    "import pandas as pd\n",
    "from torch.autograd import Variable\n",
    "\n",
    "class Dataloader(object):\n",
    "    \"\"\"Class to Load Language Pairs and Make Batch\n",
    "    \"\"\"   \n",
    "    def __init__(self, Filename, batch_size, src_lang='en', tgt_lang='zh', v_feat='i3d', max_len=40, cuda=False, volatile=False, sort=True):\n",
    "        # Need to reload every time because memory error in pickle\n",
    "        df = pd.read_csv(Filename)\n",
    "        print(df.shape)\n",
    "        src_t = []\n",
    "        src_v = []\n",
    "        tgt = []\n",
    "        nb_pairs = 0\n",
    "        for index, row in df.iterrows():\n",
    "            src_line, tgt_line = row[src_lang], row[tgt_lang]\n",
    "            if src_line=='' and tgt_line=='':\n",
    "                break            \n",
    "            src_ids = list(map(int, src_line.strip().split()))\n",
    "            # #Remove SOS and EOS for source \n",
    "            # src_ids = src_ids[1:-1]\n",
    "            tgt_ids = list(map(int, tgt_line.strip().split()))\n",
    "            if (0 in src_ids or 0 in tgt_ids):\n",
    "                continue\n",
    "            if len(src_ids)>0 and len(tgt_ids)>0:\n",
    "                # Truncate instead of discarding the sentence\n",
    "                src_t.append(src_ids if len(src_ids)<max_len+1 else src_ids[:max_len]+[3])\n",
    "                if v_feat == 'i3d':\n",
    "                    src_v.append(row['i3d_path'])\n",
    "                tgt.append(tgt_ids if len(tgt_ids)<max_len+1 else tgt_ids[:max_len]+[3])\n",
    "                nb_pairs += 1\n",
    "        print('%d pairs are converted in the data' %nb_pairs)\n",
    "        if sort:\n",
    "            sorted_idx = sorted(range(nb_pairs), key=lambda i: len(src_t[i]))\n",
    "        else:\n",
    "            sorted_idx = [i for i in range(nb_pairs)]\n",
    "        self.src_t = [src_t[i] for i in sorted_idx]\n",
    "        self.src_v = [src_v[i] for i in sorted_idx] if src_v else []\n",
    "        self.tgt = [tgt[i] for i in sorted_idx]\n",
    "        self.batch_size = batch_size\n",
    "        self.nb_pairs = nb_pairs\n",
    "        self.nb_batches = math.ceil(nb_pairs/batch_size)\n",
    "        self.v_feat = v_feat\n",
    "        self.cuda = cuda\n",
    "        self.volatile = volatile\n",
    "        \n",
    "    def __len__(self):\n",
    "        return self.nb_batches  \n",
    "\n",
    "    def _shuffle_index(self, n, m):\n",
    "        \"\"\"Yield indexes for shuffling a length n seq within every m elements\"\"\"\n",
    "        indexes = []\n",
    "        for i in range(n):\n",
    "            indexes.append(i)\n",
    "            if (i+1)%m ==0 or i==n-1:\n",
    "                random.shuffle(indexes)\n",
    "                for index in indexes:\n",
    "                    yield index\n",
    "                indexes = []\n",
    "            \n",
    "    def shuffle(self, m):\n",
    "        \"\"\"Shuffle the language pairs within every m elements\n",
    "        \n",
    "        This will make sure pairs in the same batch still have similr length.\n",
    "        \"\"\"\n",
    "        shuffled_indexes = self._shuffle_index(self.nb_pairs, m)\n",
    "        src_t, src_v, tgt = [], [], []\n",
    "        for index in shuffled_indexes:\n",
    "            src_t.append(self.src_t[index])\n",
    "            tgt.append(self.tgt[index])\n",
    "            if self.src_v:\n",
    "                src_v.append(sefl.src_v[index])\n",
    "        self.src_t = src_t\n",
    "        self.src_v = src_v\n",
    "        self.tgt = tgt\n",
    "        \n",
    "    def _wrap(self, sentences):\n",
    "        \"\"\"Pad sentences to same length and wrap into Variable\"\"\"\n",
    "        max_size = max([len(s) for s in sentences])\n",
    "        out = [s + [0]*(max_size-len(s)) for s in sentences]\n",
    "        out = torch.LongTensor(out)\n",
    "        if self.cuda:\n",
    "            out = out.cuda()\n",
    "        return Variable(out, volatile=self.volatile)\n",
    "    \n",
    "    def _v_feat_preprocess(self, paths):\n",
    "        out = None\n",
    "        if self.v_feat == 'i3d':\n",
    "            # shape:(1, *, 1024)\n",
    "            arrays = [np.load(path) for path in paths]\n",
    "            # Pad zeros to make features have same size\n",
    "            max_size = max([a.shape[1] for a in arrays])\n",
    "            out = [np.pad(a,[(0, 0), (0, max_size-a.shape[1]), (0, 0)]) for a in arrays]\n",
    "            out = torch.tensor(out).float()\n",
    "            out = torch.squeeze(out, 1)\n",
    "        return out\n",
    "        # TODO: preprocessing for raw videos or other encoder\n",
    "        #As shapes of raw video or feature are not fixed, put them in list\n",
    "        # elif self.v_feat == 'raw'\n",
    "        # elif self.v_feat == 's3d'\n",
    "\n",
    "    def __getitem__(self, i): \n",
    "        \"\"\"Generate the i-th batch and wrap in Variable\"\"\"\n",
    "        src_t_batch = self.src_t[i*self.batch_size:(i+1)*self.batch_size]\n",
    "        src_v_batch = self.src_v[i*self.batch_size:(i+1)*self.batch_size]\n",
    "        tgt_batch = self.tgt[i*self.batch_size:(i+1)*self.batch_size]\n",
    "\n",
    "        return [self._wrap(src_t_batch), self._v_feat_preprocess(src_v_batch)], self._wrap(tgt_batch)"
   ]
  },
  {
   "cell_type": "code",
   "execution_count": 42,
   "metadata": {},
   "outputs": [
    {
     "output_type": "stream",
     "name": "stdout",
     "text": "Loading dict\nBuilding Dataloader ...\n(114955, 6)\n114955 pairs are converted in the data\n"
    }
   ],
   "source": [
    "import pickle\n",
    "from preprocess import Lang\n",
    "num_epochs = 100\n",
    "batch_size = 32\n",
    "MAX_LEN = 40\n",
    "src_lang = 'en'\n",
    "tgt_lang = 'zh'\n",
    "run_testing_during_training = True\n",
    "preprocessing_type = 'jieba'\n",
    "print('Loading dict')\n",
    "src_dict = pickle.load(open('./data/{}/{}_dict.pkl'.format(preprocessing_type, src_lang), 'rb'))\n",
    "tgt_dict = pickle.load(open('./data/{}/{}_dict.pkl'.format(preprocessing_type, tgt_lang), 'rb'))\n",
    "print(\"Building Dataloader ...\")\n",
    "train_path = './data/{}/train.id'.format(preprocessing_type)\n",
    "valid_path = './data/{}/valid.id'.format(preprocessing_type)\n",
    "test_path = './data/{}/test.id'.format(preprocessing_type)\n",
    "\n",
    "traindataloader = Dataloader(train_path, batch_size, src_lang=src_lang, tgt_lang=tgt_lang,\n",
    "                                v_feat='None',max_len=MAX_LEN, cuda=True)"
   ]
  },
  {
   "cell_type": "code",
   "execution_count": 5,
   "metadata": {},
   "outputs": [],
   "source": [
    "src_batch, tgt_batch = traindataloader[0]"
   ]
  },
  {
   "cell_type": "code",
   "execution_count": 52,
   "metadata": {},
   "outputs": [
    {
     "output_type": "execute_result",
     "data": {
      "text/plain": "'爬'"
     },
     "metadata": {},
     "execution_count": 52
    }
   ],
   "source": [
    "src_dict.index2word[10]"
   ]
  },
  {
   "cell_type": "code",
   "execution_count": 51,
   "metadata": {},
   "outputs": [
    {
     "output_type": "execute_result",
     "data": {
      "text/plain": "8911"
     },
     "metadata": {},
     "execution_count": 51
    }
   ],
   "source": [
    "tgt_dict.index2word[10]"
   ]
  },
  {
   "cell_type": "code",
   "execution_count": 21,
   "metadata": {},
   "outputs": [
    {
     "output_type": "error",
     "ename": "KeyError",
     "evalue": "'EOS'",
     "traceback": [
      "\u001b[0;31m---------------------------------------------------------------------------\u001b[0m",
      "\u001b[0;31mKeyError\u001b[0m                                  Traceback (most recent call last)",
      "\u001b[0;32m<ipython-input-21-8f0ffff7a8a5>\u001b[0m in \u001b[0;36m<module>\u001b[0;34m\u001b[0m\n\u001b[0;32m----> 1\u001b[0;31m \u001b[0msrc_dict\u001b[0m\u001b[0;34m.\u001b[0m\u001b[0mword2index\u001b[0m\u001b[0;34m[\u001b[0m\u001b[0;34m'EOS'\u001b[0m\u001b[0;34m]\u001b[0m\u001b[0;34m\u001b[0m\u001b[0;34m\u001b[0m\u001b[0m\n\u001b[0m",
      "\u001b[0;31mKeyError\u001b[0m: 'EOS'"
     ]
    }
   ],
   "source": [
    "src_dict.word2index['EOS']"
   ]
  },
  {
   "cell_type": "code",
   "execution_count": 28,
   "metadata": {},
   "outputs": [],
   "source": [
    "a = {1: \"<unk>\", 2: \"<BOS>\", 3: \"<EOS>\"}"
   ]
  },
  {
   "cell_type": "code",
   "execution_count": 27,
   "metadata": {},
   "outputs": [
    {
     "output_type": "execute_result",
     "data": {
      "text/plain": "3"
     },
     "metadata": {},
     "execution_count": 27
    }
   ],
   "source": [
    "a = {\"<EOS>\":3}\n",
    "a['<EOS>']\n",
    ""
   ]
  },
  {
   "cell_type": "code",
   "execution_count": 31,
   "metadata": {},
   "outputs": [
    {
     "output_type": "error",
     "ename": "RuntimeError",
     "evalue": "view size is not compatible with input tensor's size and stride (at least one dimension spans across two contiguous subspaces). Use .reshape(...) instead.",
     "traceback": [
      "\u001b[0;31m---------------------------------------------------------------------------\u001b[0m",
      "\u001b[0;31mRuntimeError\u001b[0m                              Traceback (most recent call last)",
      "\u001b[0;32m<ipython-input-31-7c6e0761193b>\u001b[0m in \u001b[0;36m<module>\u001b[0;34m\u001b[0m\n\u001b[1;32m      1\u001b[0m \u001b[0;32mimport\u001b[0m \u001b[0mtorch\u001b[0m\u001b[0;34m\u001b[0m\u001b[0;34m\u001b[0m\u001b[0m\n\u001b[1;32m      2\u001b[0m \u001b[0msrc_len\u001b[0m \u001b[0;34m=\u001b[0m \u001b[0mhidden\u001b[0m\u001b[0;34m[\u001b[0m\u001b[0;36m0\u001b[0m\u001b[0;34m]\u001b[0m\u001b[0;34m.\u001b[0m\u001b[0mshape\u001b[0m\u001b[0;34m[\u001b[0m\u001b[0;36m1\u001b[0m\u001b[0;34m]\u001b[0m\u001b[0;34m\u001b[0m\u001b[0;34m\u001b[0m\u001b[0m\n\u001b[0;32m----> 3\u001b[0;31m \u001b[0mhidden\u001b[0m \u001b[0;34m=\u001b[0m \u001b[0mtorch\u001b[0m\u001b[0;34m.\u001b[0m\u001b[0mtanh\u001b[0m\u001b[0;34m(\u001b[0m\u001b[0mnn\u001b[0m\u001b[0;34m.\u001b[0m\u001b[0mLinear\u001b[0m\u001b[0;34m(\u001b[0m\u001b[0;36m1024\u001b[0m\u001b[0;34m,\u001b[0m \u001b[0;36m1024\u001b[0m\u001b[0;34m)\u001b[0m\u001b[0;34m(\u001b[0m\u001b[0mhidden\u001b[0m\u001b[0;34m[\u001b[0m\u001b[0;36m0\u001b[0m\u001b[0;34m]\u001b[0m\u001b[0;34m.\u001b[0m\u001b[0mpermute\u001b[0m\u001b[0;34m(\u001b[0m\u001b[0;36m1\u001b[0m\u001b[0;34m,\u001b[0m\u001b[0;36m0\u001b[0m\u001b[0;34m,\u001b[0m\u001b[0;36m2\u001b[0m\u001b[0;34m)\u001b[0m\u001b[0;34m.\u001b[0m\u001b[0mview\u001b[0m\u001b[0;34m(\u001b[0m\u001b[0msrc_len\u001b[0m\u001b[0;34m,\u001b[0m\u001b[0;34m-\u001b[0m\u001b[0;36m1\u001b[0m\u001b[0;34m)\u001b[0m\u001b[0;34m)\u001b[0m\u001b[0;34m)\u001b[0m\u001b[0;34m\u001b[0m\u001b[0;34m\u001b[0m\u001b[0m\n\u001b[0m",
      "\u001b[0;31mRuntimeError\u001b[0m: view size is not compatible with input tensor's size and stride (at least one dimension spans across two contiguous subspaces). Use .reshape(...) instead."
     ]
    }
   ],
   "source": [
    "import torch\n",
    "src_len = hidden[0].shape[1]\n",
    "hidden = torch.tanh(nn.Linear(1024, 1024)(hidden[0].permute(1,0,2).view(src_len,-1)))"
   ]
  },
  {
   "cell_type": "code",
   "execution_count": 36,
   "metadata": {},
   "outputs": [
    {
     "output_type": "execute_result",
     "data": {
      "text/plain": "torch.Size([32, 1024])"
     },
     "metadata": {},
     "execution_count": 36
    }
   ],
   "source": [
    "hidden[0].permute(1,0,2).contiguous().view(32,-1).shape"
   ]
  },
  {
   "cell_type": "code",
   "execution_count": 40,
   "metadata": {},
   "outputs": [
    {
     "output_type": "execute_result",
     "data": {
      "text/plain": "{4: 'asda', 5: 'asda', 1: '<unk>', 2: '<BOS>', 3: '<EOS>'}"
     },
     "metadata": {},
     "execution_count": 40
    }
   ],
   "source": [
    "a = {1: \"<unk>\", 2: \"<BOS>\", 3: \"<EOS>\", 4: 'asda', 7: 'asda'}\n",
    "a = {i+1:value for i, (key,value) in enumerate(a.items()) if i+1 > 3}\n",
    "a.update({1: \"<unk>\", 2: \"<BOS>\", 3: \"<EOS>\"})\n",
    "a"
   ]
  },
  {
   "cell_type": "code",
   "execution_count": 46,
   "metadata": {},
   "outputs": [
    {
     "output_type": "execute_result",
     "data": {
      "text/plain": "torch.Size([32, 256])"
     },
     "metadata": {},
     "execution_count": 46
    }
   ],
   "source": [
    " import torch.nn.functional as F\n",
    " F.softmax(hidden[0][0], dim=1).shape"
   ]
  },
  {
   "cell_type": "code",
   "execution_count": 49,
   "metadata": {},
   "outputs": [
    {
     "output_type": "execute_result",
     "data": {
      "text/plain": "True"
     },
     "metadata": {},
     "execution_count": 49
    }
   ],
   "source": [
    "hidden[0][0].shape == hidden[0][0].shape"
   ]
  },
  {
   "cell_type": "code",
   "execution_count": 53,
   "metadata": {},
   "outputs": [
    {
     "output_type": "execute_result",
     "data": {
      "text/plain": "torch.Size([4, 32, 256])"
     },
     "metadata": {},
     "execution_count": 53
    }
   ],
   "source": [
    "hidden[0].shape"
   ]
  },
  {
   "cell_type": "code",
   "execution_count": 58,
   "metadata": {},
   "outputs": [
    {
     "output_type": "error",
     "ename": "AttributeError",
     "evalue": "Can't get attribute 'Lang' on <module '__main__'>",
     "traceback": [
      "\u001b[0;31m---------------------------------------------------------------------------\u001b[0m",
      "\u001b[0;31mAttributeError\u001b[0m                            Traceback (most recent call last)",
      "\u001b[0;32m<ipython-input-58-98488741b29f>\u001b[0m in \u001b[0;36m<module>\u001b[0;34m\u001b[0m\n\u001b[1;32m      1\u001b[0m \u001b[0;32mimport\u001b[0m \u001b[0mpickle\u001b[0m\u001b[0;34m\u001b[0m\u001b[0;34m\u001b[0m\u001b[0m\n\u001b[1;32m      2\u001b[0m \u001b[0mpreprocessing_type\u001b[0m \u001b[0;34m=\u001b[0m \u001b[0;34m'jieba'\u001b[0m\u001b[0;34m\u001b[0m\u001b[0;34m\u001b[0m\u001b[0m\n\u001b[0;32m----> 3\u001b[0;31m \u001b[0mzh_dict\u001b[0m \u001b[0;34m=\u001b[0m \u001b[0mpickle\u001b[0m\u001b[0;34m.\u001b[0m\u001b[0mload\u001b[0m\u001b[0;34m(\u001b[0m\u001b[0mopen\u001b[0m\u001b[0;34m(\u001b[0m\u001b[0;34m'./data/'\u001b[0m\u001b[0;34m+\u001b[0m\u001b[0mpreprocessing_type\u001b[0m \u001b[0;34m+\u001b[0m\u001b[0;34m'/zh_dict.pkl'\u001b[0m\u001b[0;34m,\u001b[0m \u001b[0;34m'rb'\u001b[0m\u001b[0;34m)\u001b[0m\u001b[0;34m)\u001b[0m\u001b[0;34m\u001b[0m\u001b[0;34m\u001b[0m\u001b[0m\n\u001b[0m",
      "\u001b[0;31mAttributeError\u001b[0m: Can't get attribute 'Lang' on <module '__main__'>"
     ]
    }
   ],
   "source": [
    "import pickle\n",
    "preprocessing_type = 'jieba'\n",
    "zh_dict = pickle.load(open('./data/'+preprocessing_type +'/zh_dict.pkl', 'rb'))"
   ]
  },
  {
   "cell_type": "code",
   "execution_count": 63,
   "metadata": {},
   "outputs": [],
   "source": [
    "from preprocess import Lang\n",
    "with open('./data/'+preprocessing_type +'/zh_dict.pkl', 'rb') as f:\n",
    "    zh_dict = pickle.load(f)"
   ]
  },
  {
   "cell_type": "code",
   "execution_count": 65,
   "metadata": {},
   "outputs": [
    {
     "output_type": "execute_result",
     "data": {
      "text/plain": "8908"
     },
     "metadata": {},
     "execution_count": 65
    }
   ],
   "source": [
    "zh_dict.n_words"
   ]
  },
  {
   "cell_type": "code",
   "execution_count": 68,
   "metadata": {},
   "outputs": [],
   "source": [
    "import pandas as pd\n",
    "df = pd.read_csv('/mnt/md0/yingchen_ntu/VMT/VMT/yc_VMT/data/jieba/test.id')"
   ]
  },
  {
   "cell_type": "code",
   "execution_count": 69,
   "metadata": {},
   "outputs": [
    {
     "output_type": "execute_result",
     "data": {
      "text/plain": "(15000, 6)"
     },
     "metadata": {},
     "execution_count": 69
    }
   ],
   "source": [
    "df.shape"
   ]
  },
  {
   "cell_type": "code",
   "execution_count": 77,
   "metadata": {},
   "outputs": [
    {
     "output_type": "stream",
     "name": "stderr",
     "text": "15000it [00:01, 8332.19it/s]\n"
    }
   ],
   "source": [
    "import tqdm\n",
    "for i, row in tqdm.tqdm(enumerate(df.iterrows())):\n",
    "    src_line, tgt_line = row[1]['en'], row[1]['zh']"
   ]
  },
  {
   "cell_type": "code",
   "execution_count": 82,
   "metadata": {},
   "outputs": [
    {
     "output_type": "execute_result",
     "data": {
      "text/plain": "[82, 33, 613, 188, 958, 84, 4, 1764]"
     },
     "metadata": {},
     "execution_count": 82
    }
   ],
   "source": [
    "src_batch[0].tolist()[0]"
   ]
  },
  {
   "cell_type": "code",
   "execution_count": 83,
   "metadata": {},
   "outputs": [
    {
     "output_type": "execute_result",
     "data": {
      "text/plain": "'余因个'"
     },
     "metadata": {},
     "execution_count": 83
    }
   ],
   "source": [
    "'余  因个'.replace(\" \",\"\")"
   ]
  },
  {
   "cell_type": "code",
   "execution_count": null,
   "metadata": {},
   "outputs": [],
   "source": []
  }
 ]
}